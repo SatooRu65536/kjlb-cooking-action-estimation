{
 "cells": [
  {
   "cell_type": "code",
   "execution_count": 1,
   "metadata": {},
   "outputs": [],
   "source": [
    "import copy\n",
    "import numpy as np\n",
    "from persor import BVHparser\n",
    "from scipy.spatial.transform import Rotation"
   ]
  },
  {
   "cell_type": "code",
   "execution_count": 2,
   "metadata": {},
   "outputs": [],
   "source": [
    "def get_joint_coords(skeleton, joint, coords):\n",
    "    offset = skeleton[joint][\"offset\"]\n",
    "    parent_joint = skeleton[joint][\"joint\"]\n",
    "    child_joints = skeleton[joint][\"children\"]\n",
    "\n",
    "    if parent_joint == None:\n",
    "        return\n",
    "\n",
    "    parent_coord = coords[parent_joint][\"coord\"]\n",
    "\n",
    "    current_coord = [\n",
    "        parent_coord[0] + offset[0],\n",
    "        parent_coord[1] + offset[1],\n",
    "        parent_coord[2] + offset[2],\n",
    "    ]\n",
    "    coords[joint] = {\"coord\": current_coord, \"parent\": parent_joint}\n",
    "\n",
    "    for child in child_joints:\n",
    "        get_joint_coords(skeleton, child, coords)\n",
    "\n",
    "\n",
    "def skelton2coords(skeleton):\n",
    "    coords = {\"root\": {\"coord\": skeleton[\"root\"][\"offset\"], \"parent\": None}}\n",
    "\n",
    "    child_joints = skeleton[\"root\"][\"children\"]\n",
    "    for child in child_joints:\n",
    "        get_joint_coords(skeleton, child, coords)\n",
    "\n",
    "    get_joint_coords(skeleton, \"root\", coords)\n",
    "\n",
    "    return coords\n",
    "\n",
    "\n",
    "def get_rotate_vec(frame, path):\n",
    "    x_rotate = sum([frame[f\"{joint}_Xrotation\"] for joint in path])\n",
    "    y_rotate = sum([frame[f\"{joint}_Yrotation\"] for joint in path])\n",
    "    z_rotate = sum([frame[f\"{joint}_Zrotation\"] for joint in path])\n",
    "    x_position = frame[f\"{path[0]}_Xposition\"]\n",
    "    y_position = frame[f\"{path[0]}_Yposition\"]\n",
    "    z_position = frame[f\"{path[0]}_Zposition\"]\n",
    "\n",
    "    R_x = Rotation.from_euler(\"x\", x_rotate, degrees=True).as_matrix()\n",
    "    R_y = Rotation.from_euler(\"y\", y_rotate, degrees=True).as_matrix()\n",
    "    R_z = Rotation.from_euler(\"z\", z_rotate, degrees=True).as_matrix()\n",
    "\n",
    "    return R_y @ R_x @ R_z @ np.array([x_position, y_position, z_position])\n",
    "\n",
    "\n",
    "def get_path2root(skeleton, joint):\n",
    "    path = []\n",
    "    while True:\n",
    "        path.append(joint)\n",
    "        joint = skeleton[joint][\"joint\"]\n",
    "        if joint == None:\n",
    "            break\n",
    "    return path\n",
    "\n",
    "\n",
    "def rotated_skeleton(skeleton, frame):\n",
    "    skeleton_copy = copy.deepcopy(skeleton)\n",
    "\n",
    "    for joint in skeleton.keys():\n",
    "        if joint.startswith(\"_\"):\n",
    "            continue\n",
    "\n",
    "        path = get_path2root(skeleton, joint)\n",
    "        skeleton_copy[joint][\"offset\"] = get_rotate_vec(frame, path)\n",
    "\n",
    "    return skeleton_copy\n",
    "\n",
    "\n",
    "def convert2coordDict(df, skeleton):\n",
    "    df = df.copy()\n",
    "    data = []\n",
    "    for i in range(len(df)):\n",
    "        skeleton_rotated = rotated_skeleton(skeleton, df.iloc[i])\n",
    "        coords = skelton2coords(skeleton_rotated)\n",
    "        data.append(coords)\n",
    "\n",
    "    return np.array(data)\n",
    "\n",
    "\n",
    "def coord_dict2coords_array(coords_dict):\n",
    "    return np.array(\n",
    "        [[data[\"coord\"] for joint, data in coords.items()] for coords in coords_dict]\n",
    "    )\n",
    "\n",
    "\n",
    "def get_splited_data(bvhp, window_size, stride, start=0, label=0):\n",
    "    df = bvhp.get_motion_df()\n",
    "    skeleton = bvhp.get_skeleton()\n",
    "    coord_data = coord_dict2coords_array(convert2coordDict(df, skeleton))\n",
    "\n",
    "    data = np.array(\n",
    "        [\n",
    "            coord_data[i : i + window_size]\n",
    "            for i in range(start, len(df) - window_size, stride)\n",
    "        ]\n",
    "    ).transpose(0, 3, 1, 2)\n",
    "    labels = [label] * len(data)\n",
    "\n",
    "    return data, labels"
   ]
  },
  {
   "cell_type": "markdown",
   "metadata": {},
   "source": [
    "## 訓練・テスト用データを生成するよ"
   ]
  },
  {
   "cell_type": "markdown",
   "metadata": {},
   "source": [
    "1. 体を曲げる運動\n",
    "2. 両手を上げ下げ\n",
    "3. 体を捻る\n",
    "4. ジャンプ\n",
    "5. 何もしない"
   ]
  },
  {
   "cell_type": "code",
   "execution_count": 3,
   "metadata": {},
   "outputs": [
    {
     "name": "stdout",
     "output_type": "stream",
     "text": [
      "{np.int64(0), np.int64(1), np.int64(2), np.int64(3), np.int64(4)}\n"
     ]
    }
   ],
   "source": [
    "# データの取得\n",
    "window_size = 200\n",
    "data1, label1 = get_splited_data(BVHparser(\"./data/bvh/体を曲げる運動.bvh\"), window_size, 300, 270, 0)\n",
    "data2, label2 = get_splited_data(BVHparser(\"./data/bvh/両手を上げ下げ.bvh\"), window_size, 300, 270, 1)\n",
    "data3, label3 = get_splited_data(BVHparser(\"./data/bvh/体を捻る.bvh\"), window_size, 300, 270, 2)\n",
    "data4, label4 = get_splited_data(BVHparser(\"./data/bvh/ジャンプ.bvh\"), window_size, 300, 280, 3)\n",
    "data5, label5 = get_splited_data(BVHparser(\"./data/bvh/何もしない.bvh\"), window_size, 300, 270, 4)\n",
    "\n",
    "# データを結合\n",
    "data = np.concatenate([data1, data2, data3, data4, data5])\n",
    "label = np.concatenate([label1, label2, label3, label4, label5])\n",
    "\n",
    "# data, labelをシャッフル\n",
    "p = np.random.permutation(len(data))\n",
    "data = data[p]\n",
    "label = label[p]\n",
    "\n",
    "# 訓練データとテストデータに分割\n",
    "train_data = data[: int(len(data) * 0.8)]\n",
    "train_label = label[: int(len(data) * 0.8)]\n",
    "test_data = data[int(len(data) * 0.8) :]\n",
    "test_label = label[int(len(data) * 0.8) :]\n",
    "\n",
    "np.save(\"data/train_data.npy\", train_data)\n",
    "np.save(\"data/train_label.npy\", train_label)\n",
    "np.save(\"data/test_data.npy\", test_data)\n",
    "np.save(\"data/test_label.npy\", test_label)\n",
    "\n",
    "print(set(train_label))"
   ]
  },
  {
   "cell_type": "code",
   "execution_count": 4,
   "metadata": {},
   "outputs": [
    {
     "name": "stdout",
     "output_type": "stream",
     "text": [
      "(125, 3, 200, 27)\n"
     ]
    }
   ],
   "source": [
    "# data の shape\n",
    "print(data.shape)"
   ]
  }
 ],
 "metadata": {
  "kernelspec": {
   "display_name": "Python 3",
   "language": "python",
   "name": "python3"
  },
  "language_info": {
   "codemirror_mode": {
    "name": "ipython",
    "version": 3
   },
   "file_extension": ".py",
   "mimetype": "text/x-python",
   "name": "python",
   "nbconvert_exporter": "python",
   "pygments_lexer": "ipython3",
   "version": "3.10.12"
  }
 },
 "nbformat": 4,
 "nbformat_minor": 2
}
